{
 "cells": [
  {
   "cell_type": "markdown",
   "metadata": {},
   "source": [
    "## Preparing necessary libraries"
   ]
  },
  {
   "cell_type": "code",
   "execution_count": 109,
   "metadata": {},
   "outputs": [],
   "source": [
    "import numpy as np \n",
    "import warnings\n",
    "from qiskit import QuantumCircuit, transpile\n",
    "from qiskit.primitives.sampler import Sampler\n",
    "from qiskit.quantum_info import SparsePauliOp\n",
    "from qiskit.primitives import Estimator\n",
    "warnings.filterwarnings('ignore')"
   ]
  },
  {
   "cell_type": "markdown",
   "metadata": {},
   "source": [
    "## Preparing Quantum Circuit"
   ]
  },
  {
   "cell_type": "code",
   "execution_count": 110,
   "metadata": {},
   "outputs": [],
   "source": [
    "qc = QuantumCircuit(3)"
   ]
  },
  {
   "cell_type": "code",
   "execution_count": 111,
   "metadata": {},
   "outputs": [
    {
     "data": {
      "text/plain": [
       "<qiskit.circuit.instructionset.InstructionSet at 0x752f1a9314e0>"
      ]
     },
     "execution_count": 111,
     "metadata": {},
     "output_type": "execute_result"
    }
   ],
   "source": [
    "qc.h(0) # Superposition (Hadamard Gate)\n",
    "qc.p(np.pi/2,0) # Quantum Phase (Phase Gate)\n",
    "qc.cx(0,1) # 0th-qubit-Controlle-NOT gate on 1st (CNOT)\n",
    "qc.cx(0,2) # 0th-qubit-Controlle-NOT gate on 1st"
   ]
  },
  {
   "cell_type": "markdown",
   "metadata": {},
   "source": [
    "## Drawing the circuit"
   ]
  },
  {
   "cell_type": "code",
   "execution_count": 112,
   "metadata": {},
   "outputs": [
    {
     "data": {
      "text/html": [
       "<pre style=\"word-wrap: normal;white-space: pre;background: #fff0;line-height: 1.1;font-family: &quot;Courier New&quot;,Courier,monospace\">     ┌───┐┌────────┐          \n",
       "q_0: ┤ H ├┤ P(π/2) ├──■────■──\n",
       "     └───┘└────────┘┌─┴─┐  │  \n",
       "q_1: ───────────────┤ X ├──┼──\n",
       "                    └───┘┌─┴─┐\n",
       "q_2: ────────────────────┤ X ├\n",
       "                         └───┘</pre>"
      ],
      "text/plain": [
       "     ┌───┐┌────────┐          \n",
       "q_0: ┤ H ├┤ P(π/2) ├──■────■──\n",
       "     └───┘└────────┘┌─┴─┐  │  \n",
       "q_1: ───────────────┤ X ├──┼──\n",
       "                    └───┘┌─┴─┐\n",
       "q_2: ────────────────────┤ X ├\n",
       "                         └───┘"
      ]
     },
     "execution_count": 112,
     "metadata": {},
     "output_type": "execute_result"
    }
   ],
   "source": [
    "qc.draw()"
   ]
  },
  {
   "cell_type": "markdown",
   "metadata": {},
   "source": [
    "## Measurement of all"
   ]
  },
  {
   "cell_type": "code",
   "execution_count": 113,
   "metadata": {},
   "outputs": [],
   "source": [
    "qc_measured = qc.measure_all(inplace=False)"
   ]
  },
  {
   "cell_type": "markdown",
   "metadata": {},
   "source": [
    "## Sampler"
   ]
  },
  {
   "cell_type": "code",
   "execution_count": 114,
   "metadata": {},
   "outputs": [
    {
     "name": "stdout",
     "output_type": "stream",
     "text": [
      " > Quasi probability distribution: [{0: 0.499499, 7: 0.500501}]\n"
     ]
    }
   ],
   "source": [
    "sampler = Sampler()\n",
    "job = sampler.run(qc_measured, shots=1000000)\n",
    "result = job.result()\n",
    "print(f\" > Quasi probability distribution: {result.quasi_dists}\") # 000 50 % / 111 50 %"
   ]
  },
  {
   "cell_type": "markdown",
   "metadata": {},
   "source": [
    "## Defining the observable"
   ]
  },
  {
   "cell_type": "code",
   "execution_count": 115,
   "metadata": {},
   "outputs": [],
   "source": [
    "operator = SparsePauliOp.from_list([(\"XXY\", 1), (\"XYX\", 1), (\"YXX\", 1), (\"YYY\", -1)])"
   ]
  },
  {
   "cell_type": "markdown",
   "metadata": {},
   "source": [
    "## Estimator"
   ]
  },
  {
   "cell_type": "code",
   "execution_count": 116,
   "metadata": {},
   "outputs": [
    {
     "name": "stdout",
     "output_type": "stream",
     "text": [
      " > Expectation values: [4.]\n"
     ]
    }
   ],
   "source": [
    "estimator = Estimator()\n",
    "job = estimator.run(qc, operator, shots=1000)\n",
    "result = job.result()\n",
    "print(f\" > Expectation values: {result.values}\")"
   ]
  },
  {
   "cell_type": "markdown",
   "metadata": {},
   "source": [
    "## Transpile"
   ]
  },
  {
   "cell_type": "code",
   "execution_count": 117,
   "metadata": {},
   "outputs": [],
   "source": [
    "qc_transpiled = transpile(qc, basis_gates = ['cz', 'sx', 'rz'], coupling_map =[[0, 1], [1, 2]] , optimization_level=3)"
   ]
  }
 ],
 "metadata": {
  "kernelspec": {
   "display_name": "MLLegend",
   "language": "python",
   "name": "python3"
  },
  "language_info": {
   "codemirror_mode": {
    "name": "ipython",
    "version": 3
   },
   "file_extension": ".py",
   "mimetype": "text/x-python",
   "name": "python",
   "nbconvert_exporter": "python",
   "pygments_lexer": "ipython3",
   "version": "3.10.13"
  }
 },
 "nbformat": 4,
 "nbformat_minor": 2
}

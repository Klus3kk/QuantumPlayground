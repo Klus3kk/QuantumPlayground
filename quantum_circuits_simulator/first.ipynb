{
 "cells": [
  {
   "cell_type": "markdown",
   "metadata": {},
   "source": [
    "## Preparing necessary libraries"
   ]
  },
  {
   "cell_type": "code",
   "execution_count": 33,
   "metadata": {},
   "outputs": [],
   "source": [
    "import numpy as np \n",
    "import warnings\n",
    "from qiskit import QuantumCircuit, transpile\n",
    "from qiskit.primitives.sampler import Sampler\n",
    "from qiskit.quantum_info import SparsePauliOp\n",
    "from qiskit.primitives import Estimator\n",
    "warnings.filterwarnings('ignore')"
   ]
  },
  {
   "cell_type": "markdown",
   "metadata": {},
   "source": [
    "## Preparing Quantum Circuit"
   ]
  },
  {
   "cell_type": "code",
   "execution_count": 34,
   "metadata": {},
   "outputs": [],
   "source": [
    "qc = QuantumCircuit(3)"
   ]
  },
  {
   "cell_type": "code",
   "execution_count": 35,
   "metadata": {},
   "outputs": [
    {
     "data": {
      "text/plain": [
       "<qiskit.circuit.instructionset.InstructionSet at 0x7837f3fc0400>"
      ]
     },
     "execution_count": 35,
     "metadata": {},
     "output_type": "execute_result"
    }
   ],
   "source": [
    "qc.h(0) # Superposition (Hadamard Gate)\n",
    "qc.p(np.pi/2,0) # Quantum Phase (Phase Gate)\n",
    "qc.cx(0,1) # 0th-qubit-Controlle-NOT gate on 1st (CNOT), 1 does operation, 0 does not \n",
    "qc.cx(0,2) # 0th-qubit-Controlle-NOT gate on 1st"
   ]
  },
  {
   "cell_type": "markdown",
   "metadata": {},
   "source": [
    "## Drawing the circuit"
   ]
  },
  {
   "cell_type": "code",
   "execution_count": 36,
   "metadata": {},
   "outputs": [
    {
     "data": {
      "text/html": [
       "<pre style=\"word-wrap: normal;white-space: pre;background: #fff0;line-height: 1.1;font-family: &quot;Courier New&quot;,Courier,monospace\">     ┌───┐┌────────┐          \n",
       "q_0: ┤ H ├┤ P(π/2) ├──■────■──\n",
       "     └───┘└────────┘┌─┴─┐  │  \n",
       "q_1: ───────────────┤ X ├──┼──\n",
       "                    └───┘┌─┴─┐\n",
       "q_2: ────────────────────┤ X ├\n",
       "                         └───┘</pre>"
      ],
      "text/plain": [
       "     ┌───┐┌────────┐          \n",
       "q_0: ┤ H ├┤ P(π/2) ├──■────■──\n",
       "     └───┘└────────┘┌─┴─┐  │  \n",
       "q_1: ───────────────┤ X ├──┼──\n",
       "                    └───┘┌─┴─┐\n",
       "q_2: ────────────────────┤ X ├\n",
       "                         └───┘"
      ]
     },
     "execution_count": 36,
     "metadata": {},
     "output_type": "execute_result"
    }
   ],
   "source": [
    "qc.draw()"
   ]
  },
  {
   "cell_type": "markdown",
   "metadata": {},
   "source": [
    "## Measurement of all"
   ]
  },
  {
   "cell_type": "code",
   "execution_count": 37,
   "metadata": {},
   "outputs": [
    {
     "name": "stdout",
     "output_type": "stream",
     "text": [
      "        ┌───┐┌────────┐           ░ ┌─┐      \n",
      "   q_0: ┤ H ├┤ P(π/2) ├──■────■───░─┤M├──────\n",
      "        └───┘└────────┘┌─┴─┐  │   ░ └╥┘┌─┐   \n",
      "   q_1: ───────────────┤ X ├──┼───░──╫─┤M├───\n",
      "                       └───┘┌─┴─┐ ░  ║ └╥┘┌─┐\n",
      "   q_2: ────────────────────┤ X ├─░──╫──╫─┤M├\n",
      "                            └───┘ ░  ║  ║ └╥┘\n",
      "meas: 3/═════════════════════════════╩══╩══╩═\n",
      "                                     0  1  2 \n"
     ]
    }
   ],
   "source": [
    "qc_measured = qc.measure_all(inplace=False)\n",
    "print(qc_measured)"
   ]
  },
  {
   "cell_type": "markdown",
   "metadata": {},
   "source": [
    "## Sampler"
   ]
  },
  {
   "cell_type": "code",
   "execution_count": 38,
   "metadata": {},
   "outputs": [
    {
     "name": "stdout",
     "output_type": "stream",
     "text": [
      " > Quasi probability distribution: [{0: 0.500339, 7: 0.499661}]\n"
     ]
    }
   ],
   "source": [
    "sampler = Sampler()\n",
    "job = sampler.run(qc_measured, shots=1000000)\n",
    "result = job.result()\n",
    "print(f\" > Quasi probability distribution: {result.quasi_dists}\") # 000 50 % / 111 50 %"
   ]
  },
  {
   "cell_type": "markdown",
   "metadata": {},
   "source": [
    "## Defining the observable"
   ]
  },
  {
   "cell_type": "code",
   "execution_count": 39,
   "metadata": {},
   "outputs": [
    {
     "name": "stdout",
     "output_type": "stream",
     "text": [
      "SparsePauliOp(['XXY', 'XYX', 'YXX', 'YYY'],\n",
      "              coeffs=[ 1.+0.j,  1.+0.j,  1.+0.j, -1.+0.j])\n"
     ]
    }
   ],
   "source": [
    "operator = SparsePauliOp.from_list([(\"XXY\", 1), (\"XYX\", 1), (\"YXX\", 1), (\"YYY\", -1)])\n",
    "print(operator)"
   ]
  },
  {
   "cell_type": "markdown",
   "metadata": {},
   "source": [
    "## Estimator"
   ]
  },
  {
   "cell_type": "code",
   "execution_count": 40,
   "metadata": {},
   "outputs": [
    {
     "name": "stdout",
     "output_type": "stream",
     "text": [
      " > Expectation values: [4.]\n"
     ]
    }
   ],
   "source": [
    "estimator = Estimator()\n",
    "job = estimator.run(qc, operator, shots=1000)\n",
    "result = job.result()\n",
    "print(f\" > Expectation values: {result.values}\")"
   ]
  },
  {
   "cell_type": "markdown",
   "metadata": {},
   "source": [
    "## Transpile"
   ]
  },
  {
   "cell_type": "code",
   "execution_count": 41,
   "metadata": {},
   "outputs": [
    {
     "name": "stdout",
     "output_type": "stream",
     "text": [
      "         ┌─────────┐┌────┐┌───────┐             ┌────┐  ┌─────────┐\n",
      "q_2 -> 0 ┤ Rz(π/2) ├┤ √X ├┤ Rz(π) ├──────■──────┤ √X ├──┤ Rz(π/2) ├\n",
      "         ├─────────┤├────┤├───────┴┐     │      └────┘  └─────────┘\n",
      "q_0 -> 1 ┤ Rz(π/2) ├┤ √X ├┤ Rz(-π) ├─■───■─────────────────────────\n",
      "         ├─────────┤├────┤├───────┬┘ │ ┌────┐┌─────────┐           \n",
      "q_1 -> 2 ┤ Rz(π/2) ├┤ √X ├┤ Rz(π) ├──■─┤ √X ├┤ Rz(π/2) ├───────────\n",
      "         └─────────┘└────┘└───────┘    └────┘└─────────┘           \n"
     ]
    }
   ],
   "source": [
    "qc_transpiled = transpile(qc, basis_gates = ['cz', 'sx', 'rz'], coupling_map =[[0, 1], [1, 2]] , optimization_level=3)\n",
    "print(qc_transpiled)"
   ]
  }
 ],
 "metadata": {
  "kernelspec": {
   "display_name": "MLLegend",
   "language": "python",
   "name": "python3"
  },
  "language_info": {
   "codemirror_mode": {
    "name": "ipython",
    "version": 3
   },
   "file_extension": ".py",
   "mimetype": "text/x-python",
   "name": "python",
   "nbconvert_exporter": "python",
   "pygments_lexer": "ipython3",
   "version": "3.10.13"
  }
 },
 "nbformat": 4,
 "nbformat_minor": 2
}

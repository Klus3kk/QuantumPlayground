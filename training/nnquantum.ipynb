{
 "cells": [
  {
   "cell_type": "code",
   "execution_count": 23,
   "metadata": {},
   "outputs": [],
   "source": [
    "import pennylane as qml\n",
    "import numpy as np\n",
    "from sklearn.datasets import load_digits\n",
    "from sklearn.model_selection import train_test_split\n",
    "from sklearn.preprocessing import StandardScaler"
   ]
  },
  {
   "cell_type": "code",
   "execution_count": 24,
   "metadata": {},
   "outputs": [],
   "source": [
    "# Load and prepare data\n",
    "digits = load_digits(n_class=2)  # Just use 0 and 1 for simplicity\n",
    "X = digits.data / 16.0  # Normalize pixel values\n",
    "y = digits.target\n",
    "X_train, X_test, y_train, y_test = train_test_split(X, y, test_size=0.2)"
   ]
  },
  {
   "cell_type": "code",
   "execution_count": 25,
   "metadata": {},
   "outputs": [],
   "source": [
    "num_qubits = 4\n",
    "dev = qml.device(\"default.qubit\", wires=num_qubits)"
   ]
  },
  {
   "cell_type": "code",
   "execution_count": 26,
   "metadata": {},
   "outputs": [],
   "source": [
    "@qml.qnode(dev)\n",
    "def quantum_circuit(inputs, weights):\n",
    "    # Encode the inputs\n",
    "    for i in range(num_qubits):\n",
    "        qml.RY(inputs[i], wires=i)\n",
    "    \n",
    "    # Apply trainable rotation gates\n",
    "    for i in range(num_qubits):\n",
    "        qml.RZ(weights[0, i], wires=i)\n",
    "        qml.RY(weights[1, i], wires=i)\n",
    "    \n",
    "    # Entangle qubits\n",
    "    for i in range(num_qubits - 1):\n",
    "        qml.CNOT(wires=[i, i + 1])\n",
    "    \n",
    "    # Apply more trainable gates\n",
    "    for i in range(num_qubits):\n",
    "        qml.RZ(weights[2, i], wires=i)\n",
    "        qml.RY(weights[3, i], wires=i)\n",
    "    \n",
    "    # Measure the first qubit\n",
    "    return qml.expval(qml.PauliZ(0))"
   ]
  },
  {
   "cell_type": "code",
   "execution_count": 27,
   "metadata": {},
   "outputs": [],
   "source": [
    "def hybrid_model(inputs, weights):\n",
    "    # Dimension reduction (take the first 4 components for our 4 qubits)\n",
    "    inputs_subset = inputs[:4]\n",
    "    return quantum_circuit(inputs_subset, weights)"
   ]
  },
  {
   "cell_type": "code",
   "execution_count": 28,
   "metadata": {},
   "outputs": [],
   "source": [
    "def cost(weights, X, y):\n",
    "    predictions = [hybrid_model(x, weights) for x in X]\n",
    "    return np.mean((predictions - y) ** 2)"
   ]
  },
  {
   "cell_type": "code",
   "execution_count": 29,
   "metadata": {},
   "outputs": [],
   "source": [
    "np.random.seed(42)\n",
    "weights = np.random.randn(4, num_qubits)"
   ]
  },
  {
   "cell_type": "code",
   "execution_count": 30,
   "metadata": {},
   "outputs": [],
   "source": [
    "train_subset = 20\n",
    "X_train_subset = X_train[:train_subset]\n",
    "y_train_subset = y_train[:train_subset]\n"
   ]
  },
  {
   "cell_type": "code",
   "execution_count": 31,
   "metadata": {},
   "outputs": [
    {
     "name": "stdout",
     "output_type": "stream",
     "text": [
      "Step 5, Cost: 0.3941\n",
      "Step 10, Cost: 0.3941\n",
      "Step 15, Cost: 0.3941\n",
      "Step 20, Cost: 0.3941\n"
     ]
    }
   ],
   "source": [
    "opt = qml.GradientDescentOptimizer(stepsize=0.1)\n",
    "steps = 20\n",
    "\n",
    "for i in range(steps):\n",
    "    weights = opt.step(lambda w: cost(w, X_train_subset, y_train_subset), weights)\n",
    "    if (i + 1) % 5 == 0:\n",
    "        cost_val = cost(weights, X_train_subset, y_train_subset)\n",
    "        print(f\"Step {i+1}, Cost: {cost_val:.4f}\")"
   ]
  },
  {
   "cell_type": "code",
   "execution_count": 32,
   "metadata": {},
   "outputs": [
    {
     "name": "stdout",
     "output_type": "stream",
     "text": [
      "Test accuracy: 0.5000\n"
     ]
    }
   ],
   "source": [
    "test_subset = 10\n",
    "X_test_subset = X_test[:test_subset]\n",
    "y_test_subset = y_test[:test_subset]\n",
    "\n",
    "predictions = [hybrid_model(x, weights) for x in X_test_subset]\n",
    "binary_predictions = [1 if p > 0 else 0 for p in predictions]\n",
    "\n",
    "accuracy = np.mean(binary_predictions == y_test_subset)\n",
    "print(f\"Test accuracy: {accuracy:.4f}\")"
   ]
  },
  {
   "cell_type": "code",
   "execution_count": 33,
   "metadata": {},
   "outputs": [
    {
     "data": {
      "image/png": "[encoded data removed]",
      "text/plain": [
       "<Figure size 1000x400 with 10 Axes>"
      ]
     },
     "metadata": {},
     "output_type": "display_data"
    }
   ],
   "source": [
    "import matplotlib.pyplot as plt\n",
    "\n",
    "fig, axes = plt.subplots(2, 5, figsize=(10, 4))\n",
    "for i, ax in enumerate(axes.flat):\n",
    "    if i < len(X_test_subset):\n",
    "        ax.imshow(X_test_subset[i].reshape(8, 8), cmap='binary')\n",
    "        pred = binary_predictions[i]\n",
    "        actual = y_test_subset[i]\n",
    "        ax.set_title(f\"Pred: {pred}, True: {actual}\")\n",
    "    ax.axis('off')\n",
    "plt.tight_layout()\n",
    "plt.show()"
   ]
  }
 ],
 "metadata": {
  "kernelspec": {
   "display_name": "Quantum",
   "language": "python",
   "name": "python3"
  },
  "language_info": {
   "codemirror_mode": {
    "name": "ipython",
    "version": 3
   },
   "file_extension": ".py",
   "mimetype": "text/x-python",
   "name": "python",
   "nbconvert_exporter": "python",
   "pygments_lexer": "ipython3",
   "version": "3.10.16"
  }
 },
 "nbformat": 4,
 "nbformat_minor": 2
}

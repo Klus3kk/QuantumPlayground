{
 "cells": [
  {
   "cell_type": "code",
   "execution_count": 13,
   "metadata": {},
   "outputs": [],
   "source": [
    "from qiskit.quantum_info import Operator\n",
    "from qiskit import QuantumCircuit\n",
    "import numpy as np"
   ]
  },
  {
   "cell_type": "code",
   "execution_count": 14,
   "metadata": {},
   "outputs": [
    {
     "data": {
      "image/png": "[encoded data removed]",
      "text/plain": [
       "<Figure size 287.294x200.667 with 1 Axes>"
      ]
     },
     "execution_count": 14,
     "metadata": {},
     "output_type": "execute_result"
    }
   ],
   "source": [
    "# x gate - not [qc.x]\n",
    "qc = QuantumCircuit(2)\n",
    "qc.z(0)\n",
    "qc.cz(0, 1)\n",
    "qc.draw(output='mpl')"
   ]
  },
  {
   "cell_type": "code",
   "execution_count": 15,
   "metadata": {},
   "outputs": [
    {
     "data": {
      "text/plain": [
       "array([[ 1.+0.j,  0.+0.j,  0.+0.j,  0.+0.j],\n",
       "       [ 0.+0.j, -1.+0.j,  0.+0.j,  0.+0.j],\n",
       "       [ 0.+0.j,  0.+0.j,  1.+0.j,  0.+0.j],\n",
       "       [ 0.+0.j,  0.+0.j,  0.+0.j,  1.+0.j]])"
      ]
     },
     "execution_count": 15,
     "metadata": {},
     "output_type": "execute_result"
    }
   ],
   "source": [
    "matrix = Operator(qc).data\n",
    "# print(matrix @ np.array([1, 1, 1, 1]))\n",
    "matrix"
   ]
  },
  {
   "cell_type": "markdown",
   "metadata": {},
   "source": [
    "## Phase Oracles\n",
    "I will describe them more precisely during the presentation"
   ]
  },
  {
   "cell_type": "code",
   "execution_count": 16,
   "metadata": {},
   "outputs": [],
   "source": [
    "def my_oracle_1():\n",
    "    circuit = QuantumCircuit(3)\n",
    "    circuit.x(0)\n",
    "    circuit.x(1)\n",
    "    circuit.cz(0,1)\n",
    "    return circuit\n",
    "\n",
    "def my_oracle_2():\n",
    "    circuit = QuantumCircuit(3)\n",
    "    circuit.cz(0,2)\n",
    "    return circuit\n",
    "\n",
    "def my_oracle_3():\n",
    "    circuit = QuantumCircuit(4)\n",
    "    circuit.x(2)\n",
    "    circuit.ccz(0,1,2)\n",
    "    circuit.x(2)\n",
    "    circuit.x(0)\n",
    "    circuit.ccz(0,2,3)\n",
    "    circuit.x(0)\n",
    "    return circuit"
   ]
  },
  {
   "cell_type": "code",
   "execution_count": 17,
   "metadata": {},
   "outputs": [],
   "source": [
    "def check_oracle(oracle:QuantumCircuit, output:np.ndarray):\n",
    "    base_state = np.array([1] * len(output))\n",
    "    matrix = Operator(oracle).data\n",
    "    assert (matrix @ base_state == output).all(), \"The matrix is incorrect\""
   ]
  },
  {
   "cell_type": "code",
   "execution_count": 18,
   "metadata": {},
   "outputs": [],
   "source": [
    "oracle = my_oracle_1()\n",
    "matrix = Operator(oracle).data\n",
    "# check_oracle(oracle, np.array([-1, 1, 1, 1, -1, 1, 1, 1]))\n",
    "# oracle.draw(output='mpl')"
   ]
  },
  {
   "cell_type": "code",
   "execution_count": 19,
   "metadata": {},
   "outputs": [
    {
     "data": {
      "image/png": "[encoded data removed]",
      "text/plain": [
       "<Figure size 203.885x284.278 with 1 Axes>"
      ]
     },
     "execution_count": 19,
     "metadata": {},
     "output_type": "execute_result"
    }
   ],
   "source": [
    "oracle = my_oracle_2()\n",
    "check_oracle(oracle, np.array([1, 1, 1, 1, 1, -1, 1, -1]))\n",
    "oracle.draw(output='mpl')"
   ]
  },
  {
   "cell_type": "code",
   "execution_count": 20,
   "metadata": {},
   "outputs": [],
   "source": [
    "# matrix = Operator(oracle).data\n",
    "# print(matrix @ np.array([1, 1, 1, 1, 1, 1, 1, 1]))\n",
    "# check_oracle(oracle, np.array([1, 1, 1, 1, 1, -1, 1, -1]))\n",
    "# matrix"
   ]
  },
  {
   "cell_type": "code",
   "execution_count": 21,
   "metadata": {},
   "outputs": [
    {
     "name": "stdout",
     "output_type": "stream",
     "text": [
      "[ 1.+0.j  1.+0.j  1.+0.j -1.+0.j  1.+0.j  1.+0.j  1.+0.j  1.+0.j  1.+0.j\n",
      "  1.+0.j  1.+0.j -1.+0.j -1.+0.j  1.+0.j -1.+0.j  1.+0.j]\n"
     ]
    },
    {
     "data": {
      "image/png": "[encoded data removed]",
      "text/plain": [
       "<Figure size 538.33x367.889 with 1 Axes>"
      ]
     },
     "execution_count": 21,
     "metadata": {},
     "output_type": "execute_result"
    }
   ],
   "source": [
    "oracle = my_oracle_3()\n",
    "# check_oracle(oracle, np.array([1, 1, 1, 1, 1, -1, 1, 1, 1, 1, 1, -1, -1, 1, -1, 1]))\n",
    "matrix = Operator(oracle).data\n",
    "print(matrix @ np.array([1, 1, 1, 1, 1, 1, 1, 1, 1, 1, 1, 1, 1, 1, 1, 1]))\n",
    "matrix\n",
    "oracle.draw(output='mpl')"
   ]
  },
  {
   "cell_type": "markdown",
   "metadata": {},
   "source": [
    "### QCMC Problem\n",
    "Let's focus on create our desired state. Let's start with something simple:\n",
    "\n",
    "Try to get this probability distributions:\n",
    "- Task 1\n",
    "    - 00 - 50%\n",
    "    - 11 - 50%\n",
    "- Task 2\n",
    "    - 000 - 25%\n",
    "    - 001 - 25%\n",
    "    - 010 - 50%\n",
    "- Task 3\n",
    "    - 001 - 25%\n",
    "    - 010 - 25%\n",
    "    - 100 - 25%\n",
    "    - 111 - 25%"
   ]
  },
  {
   "cell_type": "code",
   "execution_count": 22,
   "metadata": {},
   "outputs": [],
   "source": [
    "def task1():\n",
    "    qc = QuantumCircuit(2)\n",
    "    qc.h(0)\n",
    "    qc.cx(0,1)\n",
    "    \n",
    "    return qc\n",
    "\n",
    "def task2():\n",
    "    qc = QuantumCircuit(3)\n",
    "    qc.h(0)\n",
    "    qc.h(1)\n",
    "    qc.cx(0,2)\n",
    "    qc.cx(1,2)\n",
    "    qc.h(0)\n",
    "\n",
    "    return qc\n",
    "\n",
    "def task3():\n",
    "    qc = QuantumCircuit(3)\n",
    "    qc.h(0)           \n",
    "    qc.h(1)           \n",
    "    qc.ccz(0, 1, 2) \n",
    "    return qc"
   ]
  },
  {
   "cell_type": "code",
   "execution_count": 23,
   "metadata": {},
   "outputs": [],
   "source": [
    "def check_probability(qc:QuantumCircuit, output:np.ndarray):\n",
    "    base_state = np.array([0] * len(output))\n",
    "    base_state[0] = 1\n",
    "    matrix = Operator(qc).data\n",
    "    print(matrix @ base_state)\n",
    "    assert np.isclose(matrix @ base_state, np.sqrt(output)).all(), \"The matrix is incorrect\"\n",
    "# check_probability(task1(), np.array([1/2, 0, 0, 1/2]))\n",
    "# check_probability(task2(), np.array([1/4, 1/4, 1/2, 0, 0, 0, 0, 0]))\n",
    "# check_probability(task3(), np.array([0, 1/4, 1/4, 0, 1/4, 0, 0, 1/4]))"
   ]
  },
  {
   "cell_type": "markdown",
   "metadata": {},
   "source": [
    "Now let's try to make our custom probabilities like:\n",
    "\n",
    "- Task 0 (hard)\n",
    "    - 0 - 33%\n",
    "    - 1 - 67%\n",
    "- Task 1 (hard)\n",
    "    - 001 - 33.(3)%\n",
    "    - 010 - 33.(3)%\n",
    "    - 100 - 33.(3)%\n",
    "- Task 2 (hard)\n",
    "    - 001 - 13%\n",
    "    - 011 - 11%\n",
    "    - 110 - 53%\n",
    "    - 111 - 23%"
   ]
  },
  {
   "cell_type": "code",
   "execution_count": 24,
   "metadata": {},
   "outputs": [
    {
     "data": {
      "text/plain": [
       "0.4999999999999999"
      ]
     },
     "execution_count": 24,
     "metadata": {},
     "output_type": "execute_result"
    }
   ],
   "source": [
    "def rx(theta):\n",
    "    return np.array([[np.cos(theta/2), -1j*np.sin(theta/2)], [-1j*np.sin(theta/2), np.cos(theta/2)]])\n",
    "\n",
    "\n",
    "def calc(state):\n",
    "    return abs(abs(state)**2)[1]\n",
    "\n",
    "def calculate_probability(theta):\n",
    "    return np.sin(theta/2)**2\n",
    "\n",
    "base_state = np.array([1, 0])\n",
    "\n",
    "base_state = rx(np.pi * 1/2) @ base_state\n",
    "calc(base_state)"
   ]
  },
  {
   "cell_type": "code",
   "execution_count": 26,
   "metadata": {},
   "outputs": [],
   "source": [
    "# def find_theta(probability:float) -> float:\n",
    "#     # TODO ...\n",
    "#     return ...\n",
    "\n",
    "# assert np.isclose(calculate_probability(find_theta(0.1)), 0.1)\n",
    "# assert np.isclose(calculate_probability(find_theta(0.3)), 0.3)\n",
    "# assert np.isclose(calculate_probability(find_theta(0.5)), 0.5)\n",
    "# assert np.isclose(calculate_probability(find_theta(0.81)), 0.81)"
   ]
  },
  {
   "cell_type": "markdown",
   "metadata": {},
   "source": [
    "## Build your own Quantum Simulator\n",
    "\n",
    "We can simulated behaviour of quantum circuits by multiplying the gate matrices $M$ by entry vector $\\ket{0}$\n",
    "\n",
    "To make a simulator for single qubit's we just need to get dot product of gates in correct order\n",
    "\n",
    "You can use $M$ @ $\\ket{0}$"
   ]
  },
  {
   "cell_type": "code",
   "execution_count": null,
   "metadata": {},
   "outputs": [],
   "source": [
    "I = np.array([[1, 0], [0, 1]])\n",
    "X = np.array([[0, 1], [1, 0]])\n",
    "CNOT = np.array([[1, 0, 0, 0], [0, 1, 0, 0], [0, 0, 0, 1], [0, 0, 1, 0]])\n",
    "H = 1/np.sqrt(2) * np.array([[1, 1], [1, -1]])\n",
    "Z = np.array([[1, 0], [0, -1]])\n",
    "Y = np.array([[0, -1j], [1j, 0]])"
   ]
  },
  {
   "cell_type": "markdown",
   "metadata": {},
   "source": [
    "Now simulate such circuit:"
   ]
  },
  {
   "cell_type": "code",
   "execution_count": 28,
   "metadata": {},
   "outputs": [
    {
     "data": {
      "image/png": "[encoded data removed]",
      "text/plain": [
       "<Figure size 436.286x117.056 with 1 Axes>"
      ]
     },
     "execution_count": 28,
     "metadata": {},
     "output_type": "execute_result"
    }
   ],
   "source": [
    "qc = QuantumCircuit(1)\n",
    "qc.h(0)\n",
    "qc.z(0)\n",
    "qc.h(0)\n",
    "qc.z(0)\n",
    "qc.draw('mpl')"
   ]
  },
  {
   "cell_type": "code",
   "execution_count": 49,
   "metadata": {},
   "outputs": [
    {
     "ename": "ValueError",
     "evalue": "matmul: Input operand 1 has a mismatch in its core dimension 0, with gufunc signature (n?,k),(k,m?)->(n?,m?) (size 2 is different from 4)",
     "output_type": "error",
     "traceback": [
      "\u001b[0;31m---------------------------------------------------------------------------\u001b[0m",
      "\u001b[0;31mValueError\u001b[0m                                Traceback (most recent call last)",
      "Cell \u001b[0;32mIn[49], line 7\u001b[0m\n\u001b[1;32m      1\u001b[0m \u001b[38;5;66;03m# state = H\u001b[39;00m\n\u001b[1;32m      2\u001b[0m \u001b[38;5;66;03m# state = np.matmul(state, Z)\u001b[39;00m\n\u001b[1;32m      3\u001b[0m \u001b[38;5;66;03m# state = np.matmul(state, H)\u001b[39;00m\n\u001b[1;32m      4\u001b[0m \u001b[38;5;66;03m# state = np.matmul(state, Z)\u001b[39;00m\n\u001b[1;32m      5\u001b[0m \u001b[38;5;66;03m# print(np.matmul(state, [1,0]))\u001b[39;00m\n\u001b[1;32m      6\u001b[0m state \u001b[38;5;241m=\u001b[39m H\n\u001b[0;32m----> 7\u001b[0m state \u001b[38;5;241m=\u001b[39m \u001b[43mnp\u001b[49m\u001b[38;5;241;43m.\u001b[39;49m\u001b[43mmatmul\u001b[49m\u001b[43m(\u001b[49m\u001b[43mCNOT\u001b[49m\u001b[43m,\u001b[49m\u001b[43m \u001b[49m\u001b[43mstate\u001b[49m\u001b[43m)\u001b[49m\n\u001b[1;32m      8\u001b[0m state \u001b[38;5;241m=\u001b[39m np\u001b[38;5;241m.\u001b[39mmatmul(np\u001b[38;5;241m.\u001b[39mkron(I,H), state)\n\u001b[1;32m      9\u001b[0m \u001b[38;5;28mprint\u001b[39m(np\u001b[38;5;241m.\u001b[39mmatmul(state, [\u001b[38;5;241m1\u001b[39m,\u001b[38;5;241m0\u001b[39m,\u001b[38;5;241m0\u001b[39m,\u001b[38;5;241m0\u001b[39m]))\n",
      "\u001b[0;31mValueError\u001b[0m: matmul: Input operand 1 has a mismatch in its core dimension 0, with gufunc signature (n?,k),(k,m?)->(n?,m?) (size 2 is different from 4)"
     ]
    }
   ],
   "source": [
    "# state = H\n",
    "# state = np.matmul(state, Z)\n",
    "# state = np.matmul(state, H)\n",
    "# state = np.matmul(state, Z)\n",
    "# print(np.matmul(state, [1,0]))\n",
    "state = H\n",
    "state = np.matmul(CNOT, state)\n",
    "state = np.matmul(np.kron(I,H), state)\n",
    "print(np.matmul(state, [1,0,0,0]))"
   ]
  },
  {
   "cell_type": "markdown",
   "metadata": {},
   "source": [
    "What is the result?"
   ]
  },
  {
   "cell_type": "markdown",
   "metadata": {},
   "source": [
    "Now let's move to simulating multi-qubit circuits, the rule is simmilar, but we can only apply transofrmation state, so we need to change our matrices to match the size of input.\n",
    "\n",
    "We can achive it by using function `np.kron`\n",
    "\n",
    "Remember that if we have 2-qubit gates as CNOT, we don't need to make this operation, as the size already matches"
   ]
  },
  {
   "cell_type": "code",
   "execution_count": 42,
   "metadata": {},
   "outputs": [
    {
     "data": {
      "text/plain": [
       "array([[0, 1, 0, 0],\n",
       "       [1, 0, 0, 0],\n",
       "       [0, 0, 0, 1],\n",
       "       [0, 0, 1, 0]])"
      ]
     },
     "execution_count": 42,
     "metadata": {},
     "output_type": "execute_result"
    }
   ],
   "source": [
    "np.kron(I, X) # TWo matrixes"
   ]
  },
  {
   "cell_type": "markdown",
   "metadata": {},
   "source": [
    "Try to make this circuit:"
   ]
  },
  {
   "cell_type": "code",
   "execution_count": 31,
   "metadata": {},
   "outputs": [
    {
     "data": {
      "image/png": "[encoded data removed]",
      "text/plain": [
       "<Figure size 370.906x200.667 with 1 Axes>"
      ]
     },
     "execution_count": 31,
     "metadata": {},
     "output_type": "execute_result"
    }
   ],
   "source": [
    "qc = QuantumCircuit(2)\n",
    "qc.h(0)\n",
    "qc.cx(0, 1)\n",
    "qc.h(0)\n",
    "qc.draw('mpl')"
   ]
  },
  {
   "cell_type": "markdown",
   "metadata": {},
   "source": [
    "So when you know how to combine gates to match the input, how about creating some more advanced quantum simulator? as for example n-qubit simulator?"
   ]
  },
  {
   "cell_type": "code",
   "execution_count": null,
   "metadata": {},
   "outputs": [],
   "source": [
    "# TODO: implement the quantum simulator :o\n",
    "class Simulator:\n",
    "    def __init__(self, num_qubits:int):\n",
    "        self.num_qubits = num_qubits\n",
    "    \n",
    "    def x(self, qubit:int):\n",
    "        ...\n",
    "        \n",
    "    def h(self, qubit:int):\n",
    "        ...\n",
    "    \n",
    "    def z(self, qubit:int):\n",
    "        ...\n",
    "        \n",
    "    def y(self, qubit:int):\n",
    "        ...\n",
    "    \n",
    "    def cx(self, control_qubit:int, target_qubit:int):\n",
    "        ...\n",
    "    \n",
    "    def calculate_probability_vector(self) -> np.ndarray:\n",
    "        ..."
   ]
  },
  {
   "cell_type": "code",
   "execution_count": null,
   "metadata": {},
   "outputs": [
    {
     "ename": "ValueError",
     "evalue": "The truth value of an array with more than one element is ambiguous. Use a.any() or a.all()",
     "output_type": "error",
     "traceback": [
      "\u001b[0;31m---------------------------------------------------------------------------\u001b[0m",
      "\u001b[0;31mValueError\u001b[0m                                Traceback (most recent call last)",
      "Cell \u001b[0;32mIn[30], line 4\u001b[0m\n\u001b[1;32m      2\u001b[0m my_simulator\u001b[38;5;241m.\u001b[39mh(\u001b[38;5;241m0\u001b[39m)\n\u001b[1;32m      3\u001b[0m my_simulator\u001b[38;5;241m.\u001b[39mcx(\u001b[38;5;241m0\u001b[39m, \u001b[38;5;241m1\u001b[39m)\n\u001b[0;32m----> 4\u001b[0m \u001b[38;5;28;01massert\u001b[39;00m my_simulator\u001b[38;5;241m.\u001b[39mcalculate_probability_vector() \u001b[38;5;241m==\u001b[39m np\u001b[38;5;241m.\u001b[39marray([\u001b[38;5;241m0.5\u001b[39m, \u001b[38;5;241m0\u001b[39m, \u001b[38;5;241m0\u001b[39m, \u001b[38;5;241m0.5\u001b[39m])\n",
      "\u001b[0;31mValueError\u001b[0m: The truth value of an array with more than one element is ambiguous. Use a.any() or a.all()"
     ]
    }
   ],
   "source": [
    "my_simulator = Simulator(2)\n",
    "my_simulator.h(0)\n",
    "my_simulator.cx(0, 1)\n",
    "assert my_simulator.calculate_probability_vector() == np.array([0.5, 0, 0, 0.5])"
   ]
  },
  {
   "cell_type": "markdown",
   "metadata": {},
   "source": [
    "### Contragulations !!!\n",
    "You can now simlator the behaviour of quantum circuits, and create perfect error-less results\n",
    "\n",
    "Now, let's simulate some amount of qubits, how about ... 25?\n",
    "\n",
    "Does it work fast?\n",
    "\n",
    "How about 30, 35, 40, 45?\n",
    "\n",
    "**Tip: take a look into your computer's memory**"
   ]
  }
 ],
 "metadata": {
  "kernelspec": {
   "display_name": "MLLegend",
   "language": "python",
   "name": "python3"
  },
  "language_info": {
   "codemirror_mode": {
    "name": "ipython",
    "version": 3
   },
   "file_extension": ".py",
   "mimetype": "text/x-python",
   "name": "python",
   "nbconvert_exporter": "python",
   "pygments_lexer": "ipython3",
   "version": "3.10.8"
  }
 },
 "nbformat": 4,
 "nbformat_minor": 2
}
